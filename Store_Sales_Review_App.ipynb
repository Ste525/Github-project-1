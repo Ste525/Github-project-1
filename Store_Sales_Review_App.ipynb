{
 "cells": [
  {
   "cell_type": "code",
   "execution_count": 1,
   "id": "93ccfcbf",
   "metadata": {},
   "outputs": [],
   "source": [
    "#Azubi store has products that customers love. Below are the products, prices and the number of customers that patronize each product last week.\n",
    "\n",
    "#The owner wants you to do some analysis on data with these criteria's:\n",
    "\n",
    "#  calculate the total price average for all products\n",
    "\n",
    "#create a new price list that reduces the old prices by GHC5\n",
    "\n",
    "#calculate the total revenue generated from the products\n",
    "\n",
    "#calculate the average daily revenue generated from the products\n",
    "\n",
    "#based on the new prices, which products are less than GHC30 \n",
    "\n",
    "#Below is the data you are to use for the problem :\n",
    "\n",
    "#products = [\"Sankofa Foods\", \"Jamestown Coffee\", \"Bioko Chocolate\", \"Blue Skies Ice Cream\", \"Fair Afric Chocolate\", \"Kawa Moka Coffee\", \"Aphro Spirit\", \"Mensado Bissap\", \"Voltic\"]\n",
    "\n",
    "#prices = [30, 25, 40, 20, 20, 35, 45, 50, 35]\n",
    "\n",
    "#last_week = [2, 3, 5, 8, 4, 4, 6, 2, 9]"
   ]
  },
  {
   "cell_type": "code",
   "execution_count": 2,
   "id": "0cc86c63",
   "metadata": {},
   "outputs": [],
   "source": [
    "products = [\"Sankofa Foods\", \"Jamestown Coffee\", \"Bioko Chocolate\", \"Blue Skies Ice Cream\", \"Fair Afric Chocolate\", \n",
    "            \"Kawa Moka Coffee\", \"Aphro Spirit\", \"Mensado Bissap\", \"Voltic\"]\n",
    "prices = [30, 25, 40, 20, 20, 35, 45, 50, 35]\n",
    "last_week = [2, 3, 5, 8, 4, 4, 6, 2, 9]"
   ]
  },
  {
   "cell_type": "code",
   "execution_count": 45,
   "id": "88d65f32",
   "metadata": {},
   "outputs": [
    {
     "name": "stdout",
     "output_type": "stream",
     "text": [
      "num_product=9\n",
      "new_list = [30, 25, 40, 20, 20, 35, 45, 50, 35]\n",
      "sum_prices= Ghc300\n",
      "total_price_average = Ghc33.33\n"
     ]
    }
   ],
   "source": [
    "#question 1-#  calculate the total price average for all products\n",
    "num_product=len(products)\n",
    "print(f'num_product={num_product}')\n",
    "\n",
    "new_list = []\n",
    "for items in range(0, len(prices)):\n",
    "    new_list.append(prices[items])\n",
    "print(f'new_list = {new_list}')\n",
    "\n",
    "sum_prices=sum(new_list)\n",
    "print(f'sum_prices= Ghc{sum_prices}')\n",
    "\n",
    "total_price_average=sum_prices/num_product\n",
    "print(f'total_price_average = Ghc{total_price_average:.2f}')"
   ]
  },
  {
   "cell_type": "code",
   "execution_count": 46,
   "id": "3f66dc03",
   "metadata": {},
   "outputs": [
    {
     "name": "stdout",
     "output_type": "stream",
     "text": [
      "new_price_list = [25, 20, 35, 15, 15, 30, 40, 45, 30]\n",
      " old price_list=[30, 25, 40, 20, 20, 35, 45, 50, 35]\n"
     ]
    }
   ],
   "source": [
    "# qusetion 2-#create a new price list that reduces the old prices by GHC5\n",
    "new_price_list = []\n",
    "for items in range(0, len(prices)):\n",
    "    new_price_list.append(prices[items]-5)\n",
    "print(f'new_price_list = {new_price_list}')\n",
    "print(f' old price_list={prices}')"
   ]
  },
  {
   "cell_type": "code",
   "execution_count": 47,
   "id": "e23e15a7",
   "metadata": {},
   "outputs": [
    {
     "name": "stdout",
     "output_type": "stream",
     "text": [
      "total_revenue_list = [60, 75, 200, 160, 80, 140, 270, 100, 315]\n",
      "total_revenue= Ghc1400\n"
     ]
    }
   ],
   "source": [
    "# question 3-#calculate the total revenue generated from the products\n",
    "total_revenue_list = []\n",
    "for elements in range(0, len(prices)):\n",
    "    total_revenue_list.append(prices[elements] * last_week[elements])\n",
    "print(f'total_revenue_list = {total_revenue_list}')\n",
    "\n",
    "total_revenue=sum(total_revenue_list)\n",
    "print(f'total_revenue= Ghc{total_revenue}')"
   ]
  },
  {
   "cell_type": "code",
   "execution_count": 48,
   "id": "414e8889",
   "metadata": {},
   "outputs": [
    {
     "name": "stdout",
     "output_type": "stream",
     "text": [
      "total_revenue_list = [60, 75, 200, 160, 80, 140, 270, 100, 315]\n",
      "total_revenue= Ghc1400\n",
      "average_daily_revenue= Ghc200.0\n"
     ]
    }
   ],
   "source": [
    "#question 4-#calculate the average daily revenue generated from the products\n",
    "total_revenue_list = []\n",
    "for elements in range(0, len(prices)):\n",
    "    total_revenue_list.append(prices[elements] * last_week[elements])\n",
    "print(f'total_revenue_list = {total_revenue_list}')\n",
    "\n",
    "total_revenue=sum(total_revenue_list)\n",
    "print(f'total_revenue= Ghc{total_revenue}')\n",
    "\n",
    "average_daily_revenue=total_revenue/7\n",
    "print(f'average_daily_revenue= Ghc{average_daily_revenue}')"
   ]
  },
  {
   "cell_type": "code",
   "execution_count": 49,
   "id": "c501e5a4",
   "metadata": {},
   "outputs": [
    {
     "name": "stdout",
     "output_type": "stream",
     "text": [
      "products less than ghc30 :Sankofa Foods:25\n",
      "products less than ghc30 :Jamestown Coffee:20\n",
      "products less than ghc30 :Blue Skies Ice Cream:15\n",
      "products less than ghc30 :Fair Afric Chocolate:15\n"
     ]
    }
   ],
   "source": [
    "#question 5-#based on the new prices, which products are less than GHC30\n",
    "archive = dict(zip(products, new_price_list))\n",
    "for key,values in archive.items():\n",
    "    if values < 30:\n",
    "        print(f'products less than ghc30 :{key}:{values}')"
   ]
  },
  {
   "cell_type": "code",
   "execution_count": null,
   "id": "52502086",
   "metadata": {},
   "outputs": [],
   "source": []
  }
 ],
 "metadata": {
  "kernelspec": {
   "display_name": "Python 3 (ipykernel)",
   "language": "python",
   "name": "python3"
  },
  "language_info": {
   "codemirror_mode": {
    "name": "ipython",
    "version": 3
   },
   "file_extension": ".py",
   "mimetype": "text/x-python",
   "name": "python",
   "nbconvert_exporter": "python",
   "pygments_lexer": "ipython3",
   "version": "3.9.12"
  }
 },
 "nbformat": 4,
 "nbformat_minor": 5
}
